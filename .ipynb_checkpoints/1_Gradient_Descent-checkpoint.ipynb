{
 "cells": [
  {
   "cell_type": "markdown",
   "id": "ddf61371",
   "metadata": {},
   "source": [
    "# Gradient Descent for Linear Regression\n",
    "\n",
    "automate the process of optimizing $w$ and $b$ using gradient descent.\n",
    "<figure>\n",
    "    <img src=\"./images/1_gradient_descent001.png\"  style=\"width:800px;height:200px;\" >\n",
    "</figure>"
   ]
  },
  {
   "cell_type": "code",
   "execution_count": 8,
   "id": "afd0e17e",
   "metadata": {},
   "outputs": [],
   "source": [
    "#!pip install numpy\n",
    "#!pip install matplotlib\n",
    "#!pip install ipywidgets\n",
    "import math, copy\n",
    "import numpy as np\n",
    "import matplotlib.pyplot as plt\n",
    "plt.style.use('./deeplearning.mplstyle')\n",
    "from lab_utils_uni import plt_house_x, plt_contour_wgrad, plt_divergence, plt_gradients"
   ]
  },
  {
   "cell_type": "code",
   "execution_count": null,
   "id": "6ae9461d",
   "metadata": {},
   "outputs": [],
   "source": []
  }
 ],
 "metadata": {
  "kernelspec": {
   "display_name": "Python 3 (ipykernel)",
   "language": "python",
   "name": "python3"
  },
  "language_info": {
   "codemirror_mode": {
    "name": "ipython",
    "version": 3
   },
   "file_extension": ".py",
   "mimetype": "text/x-python",
   "name": "python",
   "nbconvert_exporter": "python",
   "pygments_lexer": "ipython3",
   "version": "3.11.3"
  }
 },
 "nbformat": 4,
 "nbformat_minor": 5
}
